{
 "cells": [
  {
   "cell_type": "code",
   "execution_count": null,
   "id": "c24f05d6",
   "metadata": {},
   "outputs": [],
   "source": [
    "from IPython.display import Image\n",
    "from tensorflow.keras.models import Model\n",
    "import tensorflow\n",
    "import numpy as np\n",
    "import matplotlib.pyplot as plt"
   ]
  },
  {
   "cell_type": "code",
   "execution_count": null,
   "id": "9c62dcd1",
   "metadata": {},
   "outputs": [],
   "source": [
    "results={\n",
    "    0:'cat',\n",
    "    1:'dog'\n",
    "}\n",
    "Image_Width=128\n",
    "Image_Height=128\n",
    "Image_Size=(Image_Width,Image_Height)\n",
    "Image_Channels=3"
   ]
  },
  {
   "cell_type": "code",
   "execution_count": null,
   "id": "f9d1b0a7",
   "metadata": {},
   "outputs": [],
   "source": [
    "model = tensorflow.keras.models.load_model(\"../model/export/Servo/1/\")"
   ]
  },
  {
   "cell_type": "code",
   "execution_count": null,
   "id": "bae4a96a",
   "metadata": {},
   "outputs": [],
   "source": [
    "model.summary()"
   ]
  },
  {
   "cell_type": "code",
   "execution_count": null,
   "id": "778a4080",
   "metadata": {},
   "outputs": [],
   "source": [
    "def infer(file):\n",
    "    from PIL import Image\n",
    "\n",
    "    im=Image.open(img_file)\n",
    "    im=im.resize(Image_Size)\n",
    "    im=np.expand_dims(im,axis=0)\n",
    "    im=np.array(im)\n",
    "    im=im/255\n",
    "\n",
    "    pred=model.predict([im])[0]\n",
    "    return (results[np.argmax(pred)])"
   ]
  },
  {
   "cell_type": "code",
   "execution_count": null,
   "id": "06370548",
   "metadata": {},
   "outputs": [],
   "source": [
    "img_file=\"../images/image1.jpg\"\n",
    "Image(img_file) "
   ]
  },
  {
   "cell_type": "code",
   "execution_count": null,
   "id": "eb123478",
   "metadata": {},
   "outputs": [],
   "source": [
    "infer(img_file)"
   ]
  },
  {
   "cell_type": "code",
   "execution_count": null,
   "id": "4b13101c",
   "metadata": {},
   "outputs": [],
   "source": [
    "img_file=\"../images/image2.jpg\"\n",
    "Image(img_file) "
   ]
  },
  {
   "cell_type": "code",
   "execution_count": null,
   "id": "a9235b12",
   "metadata": {},
   "outputs": [],
   "source": [
    "infer(img_file)"
   ]
  },
  {
   "cell_type": "code",
   "execution_count": null,
   "id": "2ad7ff6e",
   "metadata": {},
   "outputs": [],
   "source": []
  }
 ],
 "metadata": {
  "kernelspec": {
   "display_name": "Python 3 (ipykernel)",
   "language": "python",
   "name": "python3"
  },
  "language_info": {
   "codemirror_mode": {
    "name": "ipython",
    "version": 3
   },
   "file_extension": ".py",
   "mimetype": "text/x-python",
   "name": "python",
   "nbconvert_exporter": "python",
   "pygments_lexer": "ipython3",
   "version": "3.9.2"
  }
 },
 "nbformat": 4,
 "nbformat_minor": 5
}
